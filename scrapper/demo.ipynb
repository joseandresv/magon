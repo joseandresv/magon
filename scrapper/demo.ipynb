{
 "cells": [
  {
   "cell_type": "code",
   "execution_count": 1,
   "metadata": {},
   "outputs": [],
   "source": [
    "from gnews import GNews\n",
    "from selenium import webdriver\n",
    "from selenium.webdriver.chrome.service import Service\n",
    "from webdriver_manager.chrome import ChromeDriverManager\n",
    "from bs4 import BeautifulSoup\n",
    "from selenium import webdriver\n",
    "from selenium.webdriver.common.by import By\n",
    "from selenium.webdriver.support.ui import WebDriverWait\n",
    "from selenium.webdriver.support import expected_conditions as EC\n",
    "import requests\n",
    "from selenium import webdriver\n",
    "from selenium.webdriver.chrome.options import Options\n",
    "from selenium.webdriver.chrome.service import Service\n",
    "from webdriver_manager.chrome import ChromeDriverManager\n"
   ]
  },
  {
   "cell_type": "code",
   "execution_count": 2,
   "metadata": {},
   "outputs": [],
   "source": [
    "google_news = GNews(language='es', \n",
    "                    country='Mexico', \n",
    "                    period='7d', \n",
    "                    start_date=None, \n",
    "                    end_date=None, \n",
    "                    max_results=5, \n",
    "                    #exclude_websites=['yahoo.com', 'cnn.com'],\n",
    "                    #proxy=proxy\n",
    "                    )\n",
    "news = google_news.get_news('espanol Claudia Sheinbaum')"
   ]
  },
  {
   "cell_type": "code",
   "execution_count": 12,
   "metadata": {},
   "outputs": [],
   "source": [
    "\n",
    "def find_article_body_complete(soup):\n",
    "    # A more comprehensive list of strategies to capture various HTML structures\n",
    "    strategies = [\n",
    "        {'selector': 'div.article-body', 'method': 'select'},\n",
    "        {'selector': 'article', 'method': 'find'},\n",
    "        {'selector': 'div.article-content', 'method': 'select'},\n",
    "        {'selector': 'main.content', 'method': 'select'},\n",
    "        {'selector': 'div#article-text', 'method': 'select'},\n",
    "        {'selector': 'p', 'method': 'find_all'},  # Fallback to gather all paragraphs\n",
    "    ]\n",
    "    \n",
    "    article_parts = []\n",
    "    \n",
    "    for strategy in strategies:\n",
    "        if strategy['method'] == 'select':  # For CSS selectors\n",
    "            elements = soup.select(strategy['selector'])\n",
    "        else:  # For find_all methods\n",
    "            elements = soup.find_all(strategy['selector'])\n",
    "            \n",
    "        for element in elements:\n",
    "            text = element.get_text(separator=\"\\n\", strip=True)\n",
    "            if text:\n",
    "                article_parts.append(text)\n",
    "                \n",
    "        # If we found some content, no need to continue with further strategies\n",
    "        if article_parts:\n",
    "            break\n",
    "    \n",
    "    # Combine all parts of the article we found\n",
    "    return \"\\n\\n\".join(article_parts) if article_parts else None\n",
    "\n",
    "def parse_article_content(url):\n",
    "    headers = {\n",
    "        'User-Agent': 'Mozilla/5.0 (Windows NT 10.0; Win64; x64) AppleWebKit/537.36 (KHTML, like Gecko) Chrome/58.0.3029.110 Safari/537.3'\n",
    "    }\n",
    "\n",
    "    response = requests.get(url, headers=headers)\n",
    "    print(response)\n",
    "    if response.status_code == 200:\n",
    "        soup = BeautifulSoup(response.text, 'html.parser')\n",
    "        article_text = find_article_body_complete(soup)\n",
    "\n",
    "        if not article_text or \"Please enable JS and disable any ad blocker\" in article_text or len(article_text) < 100:\n",
    "            try:\n",
    "                chrome_options = Options()\n",
    "                chrome_options.binary_location = \"/usr/bin/google-chrome-stable\"  # Specify the correct Chrome binary location\n",
    "                driver_executable_path = \"/home/uumami/.wdm/drivers/chromedriver/linux64/122.0.6261.111/chromedriver-linux64/chromedriver\"\n",
    "                driver = webdriver.Chrome(service=Service(executable_path=driver_executable_path), options=chrome_options)\n",
    "\n",
    "                driver.get(url)\n",
    "                driver.implicitly_wait(10)  # Wait for content to load\n",
    "                html = driver.page_source\n",
    "                driver.quit()  # Close the browser\n",
    "\n",
    "                soup = BeautifulSoup(html, 'html.parser')\n",
    "                article_text = find_article_body_complete(soup)\n",
    "                return article_text if article_text else \"Failed to parse the article content with Selenium.\"\n",
    "            except Exception as e:\n",
    "                print(f\"Failed to parse the article with Selenium due to an error: {e}\")\n",
    "                return None\n",
    "    else:\n",
    "        print(\"Failed to retrieve the article using requests.\")\n",
    "        return None\n"
   ]
  },
  {
   "cell_type": "code",
   "execution_count": 15,
   "metadata": {},
   "outputs": [],
   "source": [
    "google_news = GNews(language='es', \n",
    "                    country='Mexico', \n",
    "                    period='7d', \n",
    "                    start_date=None, \n",
    "                    end_date=None, \n",
    "                    max_results=5, \n",
    "                    #exclude_websites=['yahoo.com', 'cnn.com'],\n",
    "                    #proxy=proxy\n",
    "                    )\n",
    "news = google_news.get_news('espanol Claudia Sheinbaum')"
   ]
  },
  {
   "cell_type": "code",
   "execution_count": 16,
   "metadata": {},
   "outputs": [
    {
     "name": "stdout",
     "output_type": "stream",
     "text": [
      "https://news.google.com/rss/articles/CBMiVmh0dHBzOi8vd3d3Lm55dGltZXMuY29tL2VzLzIwMjQvMDMvMDEvZXNwYW5vbC9lbGVjY2lvbmVzLW1leGljby1jbGF1ZGlhLXNoZWluYmF1bS5odG1s0gEA?oc=5&hl=en-US&gl=US&ceid=US:en\n",
      "<Response [200]>\n",
      "Article Content: Failed to parse the article content with Selenium.\n"
     ]
    }
   ],
   "source": [
    "# Example usage - replace the URL with the one you're interested in\n",
    "url = 'https://news.google.com/rss/articles/CBMiVmh0dHBzOi8vd3d3Lm55dGltZXMuY29tL2VzLzIwMjQvMDMvMDEvZXNwYW5vbC9lbGVjY2lvbmVzLW1leGljby1jbGF1ZGlhLXNoZWluYmF1bS5odG1s0gEA?oc=5&hl=en-US&gl=US&ceid=US:en'\n",
    "print(url)\n",
    "article_content = parse_article_content(url)\n",
    "if article_content:\n",
    "    print(\"Article Content:\", article_content)\n",
    "else:\n",
    "    print(\"Failed to parse the article content.\")"
   ]
  },
  {
   "cell_type": "code",
   "execution_count": 6,
   "metadata": {},
   "outputs": [
    {
     "name": "stdout",
     "output_type": "stream",
     "text": [
      "https://news.google.com/rss/articles/CBMijwFodHRwczovL3d3dy5sb2NhbDEwLmNvbS9lc3Bhbm9sLzIwMjQvMDMvMDEvYXJyYW5jYS1jYW1wYW5hLXBvci1sYS1wcmVzaWRlbmNpYS1kZS1tZXhpY28tZW50cmUtb2ZlcnRhcy1kZS1jb250aW51aWRhZC15LWNyaXRpY2FzLWEtbGEtdmlvbGVuY2lhL9IBAA?oc=5&hl=en-US&gl=US&ceid=US:en\n"
     ]
    },
    {
     "name": "stderr",
     "output_type": "stream",
     "text": [
      "03/07/2024 03:20:41 PM - ====== WebDriver manager ======\n",
      "/bin/sh: line 1: google-chrome: command not found\n",
      "/bin/sh: line 1: google-chrome: command not found\n",
      "03/07/2024 03:20:41 PM - Get LATEST chromedriver version for google-chrome\n",
      "03/07/2024 03:20:41 PM - Get LATEST chromedriver version for google-chrome\n",
      "03/07/2024 03:20:41 PM - Driver [/home/uumami/.wdm/drivers/chromedriver/linux64/122.0.6261.111/chromedriver-linux64/chromedriver] found in cache\n"
     ]
    },
    {
     "name": "stdout",
     "output_type": "stream",
     "text": [
      "Article Content: Failed to parse the article content with Selenium.\n"
     ]
    }
   ],
   "source": [
    "# Example usage - replace the URL with the one you're interested in\n",
    "url = news[1]['url']\n",
    "print(url)\n",
    "article_content = parse_article_content(url)\n",
    "if article_content:\n",
    "    print(\"Article Content:\", article_content)\n",
    "else:\n",
    "    print(\"Failed to parse the article content.\")"
   ]
  }
 ],
 "metadata": {
  "kernelspec": {
   "display_name": ".venv",
   "language": "python",
   "name": "python3"
  },
  "language_info": {
   "codemirror_mode": {
    "name": "ipython",
    "version": 3
   },
   "file_extension": ".py",
   "mimetype": "text/x-python",
   "name": "python",
   "nbconvert_exporter": "python",
   "pygments_lexer": "ipython3",
   "version": "3.11.6"
  }
 },
 "nbformat": 4,
 "nbformat_minor": 2
}
