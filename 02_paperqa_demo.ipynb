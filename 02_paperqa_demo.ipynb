{
 "cells": [
  {
   "cell_type": "code",
   "execution_count": 1,
   "metadata": {},
   "outputs": [],
   "source": [
    "# ! pip install -U paper-qa\n",
    "# ! pip install -U openai"
   ]
  },
  {
   "cell_type": "code",
   "execution_count": 2,
   "metadata": {},
   "outputs": [],
   "source": [
    "import os\n",
    "from dotenv import load_dotenv\n",
    "from paperqa import Docs"
   ]
  },
  {
   "cell_type": "code",
   "execution_count": null,
   "metadata": {},
   "outputs": [],
   "source": [
    "# Load .env file\n",
    "load_dotenv()"
   ]
  },
  {
   "cell_type": "code",
   "execution_count": 3,
   "metadata": {},
   "outputs": [],
   "source": [
    "import nest_asyncio\n",
    "nest_asyncio.apply()"
   ]
  },
  {
   "cell_type": "code",
   "execution_count": 4,
   "metadata": {},
   "outputs": [],
   "source": [
    "folder_path = 'demo_data/scrapper_demo/articles'\n",
    "docs = Docs(llm='gpt-3.5-turbo')\n",
    "# Iterate over all files in the folder\n",
    "for filename in os.listdir(folder_path):\n",
    "    if filename.endswith(\".txt\") or filename.endswith(\".pdf\"):  # Adjust the file extensions as needed\n",
    "        file_path = os.path.join(folder_path, filename)\n",
    "        docs.add(file_path)\n"
   ]
  },
  {
   "cell_type": "code",
   "execution_count": 5,
   "metadata": {},
   "outputs": [
    {
     "name": "stdout",
     "output_type": "stream",
     "text": [
      "Question: Que ha dicho Claudi Sheinbaum acerca de organismos constitucionales autonomos?Responde en espanol\n",
      "\n",
      "Claudia Sheinbaum ha expresado su posición a favor de la permanencia de organismos constitucionales autónomos como el Instituto Nacional Electoral (INE) y la Comisión Nacional de los Derechos Humanos (CNDH), enfatizando su importancia en el contexto de las reformas propuestas (Informaci2024 chunk 1). Asimismo, ha destacado que estos organismos deben seguir operando de acuerdo con tratados internacionales, indicando que \"hay organismos que deben permanecer, el INE, es otro organismo constitucionalmente autónomo (...) que debe permanecer\" (Informaci2024 chunk 1).\n",
      "\n",
      "References\n",
      "\n",
      "1. (Informaci2024 chunk 1): \"Información general sobre Claudia Sheinbaum y Arturo Zaldívar en plenarias de Morena.\" infobae, 30 Jan. 2024, www.infobae.com/america/mexico/2024/01/30/claudia-sheinbaum-y-arturo-zaldivar-seran-los-invitados-de-lujo-en-las-plenarias-de-morena/. Accessed 1 Feb. 2024.\n",
      "\n"
     ]
    }
   ],
   "source": [
    "answer = docs.query(\"Que ha dicho Claudi Sheinbaum acerca de organismos constitucionales autonomos?\" + \"Responde en espanol\")\n",
    "print(answer.formatted_answer)"
   ]
  }
 ],
 "metadata": {
  "kernelspec": {
   "display_name": ".venv",
   "language": "python",
   "name": "python3"
  },
  "language_info": {
   "codemirror_mode": {
    "name": "ipython",
    "version": 3
   },
   "file_extension": ".py",
   "mimetype": "text/x-python",
   "name": "python",
   "nbconvert_exporter": "python",
   "pygments_lexer": "ipython3",
   "version": "3.11.6"
  }
 },
 "nbformat": 4,
 "nbformat_minor": 2
}
