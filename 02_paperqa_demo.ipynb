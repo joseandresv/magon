{
 "cells": [
  {
   "cell_type": "code",
   "execution_count": 1,
   "metadata": {},
   "outputs": [],
   "source": [
    "# ! pip install -U paper-qa\n",
    "# ! pip install -U openai"
   ]
  },
  {
   "cell_type": "code",
   "execution_count": 2,
   "metadata": {},
   "outputs": [],
   "source": [
    "import os\n",
    "from paperqa import Docs\n",
    "import openai"
   ]
  },
  {
   "cell_type": "code",
   "execution_count": 3,
   "metadata": {},
   "outputs": [],
   "source": [
    "import nest_asyncio\n",
    "nest_asyncio.apply()"
   ]
  },
  {
   "cell_type": "code",
   "execution_count": 4,
   "metadata": {},
   "outputs": [],
   "source": [
    "folder_path = 'demo_data/scrapper_demo/articles'\n",
    "docs = Docs(llm='gpt-3.5-turbo')\n",
    "# Iterate over all files in the folder\n",
    "for filename in os.listdir(folder_path):\n",
    "    if filename.endswith(\".txt\") or filename.endswith(\".pdf\"):  # Adjust the file extensions as needed\n",
    "        file_path = os.path.join(folder_path, filename)\n",
    "        docs.add(file_path)\n"
   ]
  },
  {
   "cell_type": "code",
   "execution_count": 7,
   "metadata": {},
   "outputs": [
    {
     "name": "stdout",
     "output_type": "stream",
     "text": [
      "Question: Claudia Sheinbaum a matado un perro? Responde en espanol\n",
      "\n",
      "Claudia Sheinbaum no ha matado un perro según la información proporcionada. A pesar de denuncias de fraude y manipulación de video utilizando inteligencia artificial (IA) con su voz e imagen, no hay evidencia de estar involucrada en actos relacionados con maltrato animal (Claudia2024 chunk 1, Columnas2024 chunk 1). Hasta el momento, no se ha presentado información directa sobre este tema en los fragmentos proporcionados. I cannot answer.\n",
      "\n",
      "References\n",
      "\n",
      "1. (Claudia2024 chunk 1): \"Claudia Sheinbaum denuncia fraude; IA imita su voz para pedir dinero | VIDEO - Infobae México.\" Infobae, 24 Jan. 2024, www.infobae.com/mexico/2024/01/24/claudia-sheinbaum-denuncia-fraude-ia-imita-su-voz-para-pedir-dinero-video/. Accessed 3 Mar. 2024.\n",
      "\n",
      "2. (Columnas2024 chunk 1): \"CLAUDIA SHEINBAUM ALERTA SOBRE VIDEO FRAUDULENTO CON USO DE IA.\" 8 Columnas, accessed 2024.\n",
      "\n"
     ]
    }
   ],
   "source": [
    "answer = docs.query(\"Claudia Sheinbaum a matado un perro?\" + \"Responde en espanol\")\n",
    "print(answer.formatted_answer)"
   ]
  }
 ],
 "metadata": {
  "kernelspec": {
   "display_name": ".venv",
   "language": "python",
   "name": "python3"
  },
  "language_info": {
   "codemirror_mode": {
    "name": "ipython",
    "version": 3
   },
   "file_extension": ".py",
   "mimetype": "text/x-python",
   "name": "python",
   "nbconvert_exporter": "python",
   "pygments_lexer": "ipython3",
   "version": "3.11.6"
  }
 },
 "nbformat": 4,
 "nbformat_minor": 2
}
