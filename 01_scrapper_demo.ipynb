{
 "cells": [
  {
   "cell_type": "code",
   "execution_count": 1,
   "metadata": {},
   "outputs": [],
   "source": [
    "from gnews import GNews\n",
    "\n",
    "from scrapper.naive_spyder import naive_spyder\n",
    "from scrapper.selenium_spyder import scrape_news_article\n",
    "from scrapper.serialize_json import serialize_dict_non_recursive\n",
    "    \n",
    "import json\n",
    "import os"
   ]
  },
  {
   "cell_type": "code",
   "execution_count": 2,
   "metadata": {},
   "outputs": [],
   "source": [
    "google_news = GNews(language='es', \n",
    "                    country='Mexico', \n",
    "                    period='100d', \n",
    "                    start_date=None, \n",
    "                    end_date=None, \n",
    "                    max_results=5, \n",
    "                    #exclude_websites=['yahoo.com', 'cnn.com'],\n",
    "                    #proxy=proxy\n",
    "                    )\n",
    "\n",
    "news = google_news.get_news('Claudia Sheinbaum organismos constitucionales autonomos')\n",
    "\n",
    "for n in news:\n",
    "    n['checks'] = {\n",
    "        'naive_spyder':False,\n",
    "        'selenium_spyder':False\n",
    "    }"
   ]
  },
  {
   "cell_type": "code",
   "execution_count": null,
   "metadata": {},
   "outputs": [],
   "source": [
    "news"
   ]
  },
  {
   "cell_type": "code",
   "execution_count": 3,
   "metadata": {},
   "outputs": [
    {
     "name": "stderr",
     "output_type": "stream",
     "text": [
      "03/14/2024 01:58:14 PM - ====== WebDriver manager ======\n",
      "/bin/sh: line 1: google-chrome: command not found\n",
      "/bin/sh: line 1: google-chrome: command not found\n",
      "03/14/2024 01:58:14 PM - Get LATEST chromedriver version for google-chrome\n",
      "03/14/2024 01:58:14 PM - Get LATEST chromedriver version for google-chrome\n",
      "03/14/2024 01:58:14 PM - Get LATEST chromedriver version for google-chrome\n",
      "03/14/2024 01:58:15 PM - WebDriver version 115.0.5790.170 selected\n",
      "03/14/2024 01:58:15 PM - Modern chrome version https://storage.googleapis.com/chrome-for-testing-public/115.0.5790.170/linux64/chromedriver-linux64.zip\n",
      "03/14/2024 01:58:15 PM - About to download new driver from https://storage.googleapis.com/chrome-for-testing-public/115.0.5790.170/linux64/chromedriver-linux64.zip\n",
      "03/14/2024 01:58:15 PM - Driver downloading response is 200\n",
      "03/14/2024 01:58:15 PM - Get LATEST chromedriver version for google-chrome\n",
      "03/14/2024 01:58:16 PM - Driver has been saved in cache [/home/uumami/.wdm/drivers/chromedriver/linux64/115.0.5790.170]\n"
     ]
    },
    {
     "name": "stdout",
     "output_type": "stream",
     "text": [
      "An error occurred while fetching the article: Article `download()` failed with 403 Client Error: Forbidden for url: https://www.eleconomista.com.mx/politica/Organizaciones-civiles-califican-como-agresiva-la-reforma-para-desaparecer-a-organismos-autonomos-20240207-0125.html on URL https://news.google.com/rss/articles/CBMinQFodHRwczovL3d3dy5lbGVjb25vbWlzdGEuY29tLm14L3BvbGl0aWNhL09yZ2FuaXphY2lvbmVzLWNpdmlsZXMtY2FsaWZpY2FuLWNvbW8tYWdyZXNpdmEtbGEtcmVmb3JtYS1wYXJhLWRlc2FwYXJlY2VyLWEtb3JnYW5pc21vcy1hdXRvbm9tb3MtMjAyNDAyMDctMDEyNS5odG1s0gGhAWh0dHBzOi8vd3d3LmVsZWNvbm9taXN0YS5jb20ubXgvYW1wL3BvbGl0aWNhL09yZ2FuaXphY2lvbmVzLWNpdmlsZXMtY2FsaWZpY2FuLWNvbW8tYWdyZXNpdmEtbGEtcmVmb3JtYS1wYXJhLWRlc2FwYXJlY2VyLWEtb3JnYW5pc21vcy1hdXRvbm9tb3MtMjAyNDAyMDctMDEyNS5odG1s?oc=5&hl=en-US&gl=US&ceid=US:en\n"
     ]
    },
    {
     "name": "stderr",
     "output_type": "stream",
     "text": [
      "03/14/2024 01:58:21 PM - ====== WebDriver manager ======\n",
      "/bin/sh: line 1: google-chrome: command not found\n",
      "/bin/sh: line 1: google-chrome: command not found\n",
      "03/14/2024 01:58:21 PM - Get LATEST chromedriver version for google-chrome\n",
      "03/14/2024 01:58:21 PM - Get LATEST chromedriver version for google-chrome\n"
     ]
    }
   ],
   "source": [
    "articles = []\n",
    "for k in range(len(news)):\n",
    "    article = naive_spyder(google_news,news,k)\n",
    "    article = scrape_news_article(article)\n",
    "    articles.append(article)\n"
   ]
  },
  {
   "cell_type": "code",
   "execution_count": null,
   "metadata": {},
   "outputs": [],
   "source": [
    "os.makedirs('demo_data/scrapper_demo', exist_ok=True)\n",
    "os.makedirs('demo_data/scrapper_demo/articles', exist_ok=True)\n",
    "\n",
    "articles = serialize_dict_non_recursive(articles)\n",
    "with open('demo_data/scrapper_demo/all.json', 'w') as json_file:\n",
    "    json.dump(articles, json_file)"
   ]
  },
  {
   "cell_type": "code",
   "execution_count": null,
   "metadata": {},
   "outputs": [],
   "source": [
    "for a in articles:\n",
    "    try:\n",
    "        title = a['title'].replace('/','')\n",
    "        text = a['content']\n",
    "        full_content = title + \"\\n\" + text\n",
    "        with open(os.path.join('demo_data/scrapper_demo/articles', f'{title}.txt'), 'w') as file:\n",
    "            file.write(full_content)\n",
    "    except:\n",
    "        pass\n",
    "        "
   ]
  }
 ],
 "metadata": {
  "kernelspec": {
   "display_name": ".venv",
   "language": "python",
   "name": "python3"
  },
  "language_info": {
   "codemirror_mode": {
    "name": "ipython",
    "version": 3
   },
   "file_extension": ".py",
   "mimetype": "text/x-python",
   "name": "python",
   "nbconvert_exporter": "python",
   "pygments_lexer": "ipython3",
   "version": "3.11.6"
  }
 },
 "nbformat": 4,
 "nbformat_minor": 2
}
