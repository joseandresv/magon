{
 "cells": [
  {
   "cell_type": "code",
   "execution_count": 1,
   "metadata": {},
   "outputs": [],
   "source": [
    "from gnews import GNews\n",
    "\n",
    "from scrapper.naive_spyder import naive_spyder\n",
    "from scrapper.selenium_spyder import scrape_news_article\n",
    "from scrapper.serialize_json import serialize_dict_non_recursive\n",
    "    \n",
    "import json\n",
    "import os"
   ]
  },
  {
   "cell_type": "code",
   "execution_count": 6,
   "metadata": {},
   "outputs": [
    {
     "data": {
      "text/plain": [
       "[{'title': 'Las propuestas de Sheinbaum y Gálvez para México - DW (Español)',\n",
       "  'description': 'Las propuestas de Sheinbaum y Gálvez para México  DW (Español)',\n",
       "  'published date': 'Fri, 08 Mar 2024 18:35:44 GMT',\n",
       "  'url': 'https://news.google.com/rss/articles/CBMiggFodHRwczovL3d3dy5kdy5jb20vZXMvY29udGludWlkYWQtby1jb250cmFzdGUtcGFyYS1tJUMzJUE5eGljby1sYXMtcHJvcHVlc3Rhcy1kZS1sYXMtY2FuZGlkYXRhcy1zaGVpbmJhdW0teS1nJUMzJUExbHZlei9hLTY4NDY5MDc50gGCAWh0dHBzOi8vYW1wLmR3LmNvbS9lcy9jb250aW51aWRhZC1vLWNvbnRyYXN0ZS1wYXJhLW0lQzMlQTl4aWNvLWxhcy1wcm9wdWVzdGFzLWRlLWxhcy1jYW5kaWRhdGFzLXNoZWluYmF1bS15LWclQzMlQTFsdmV6L2EtNjg0NjkwNzk?oc=5&hl=en-US&gl=US&ceid=US:en',\n",
       "  'publisher': {'href': 'https://www.dw.com', 'title': 'DW (Español)'}},\n",
       " {'title': 'Xóchitl Gálvez reta a Sheinbaum a echarse un trago de agua de la CDMX - Netnoticias',\n",
       "  'description': 'Xóchitl Gálvez reta a Sheinbaum a echarse un trago de agua de la CDMX  Netnoticias',\n",
       "  'published date': 'Sun, 03 Mar 2024 19:38:52 GMT',\n",
       "  'url': 'https://news.google.com/rss/articles/CBMiZWh0dHBzOi8vbmV0bm90aWNpYXMubXgvbmFjaW9uYWwveG9jaGl0bC1nYWx2ZXotcmV0YS1hLXNoZWluYmF1bS1hLWVjaGFyc2UtdW4tdHJhZ28tZGUtYWd1YS1kZS1sYS1jZG140gFgaHR0cHM6Ly9uZXRub3RpY2lhcy5teC9hbXAveG9jaGl0bC1nYWx2ZXotcmV0YS1hLXNoZWluYmF1bS1hLWVjaGFyc2UtdW4tdHJhZ28tZGUtYWd1YS1kZS1sYS1jZG14?oc=5&hl=en-US&gl=US&ceid=US:en',\n",
       "  'publisher': {'href': 'https://netnoticias.mx', 'title': 'Netnoticias'}},\n",
       " {'title': 'Próximo presidente de México requerirá MXN$160.000 millones anuales para enfrentar escasez de agua - Bloomberg Línea Latinoamérica',\n",
       "  'description': 'Próximo presidente de México requerirá MXN$160.000 millones anuales para enfrentar escasez de agua  Bloomberg Línea Latinoamérica',\n",
       "  'published date': 'Fri, 08 Mar 2024 03:34:29 GMT',\n",
       "  'url': 'https://news.google.com/rss/articles/CBMilQFodHRwczovL3d3dy5ibG9vbWJlcmdsaW5lYS5jb20vbGF0aW5vYW1lcmljYS9tZXhpY28vcHJveGltby1wcmVzaWRlbnRlLWRlLW1leGljby1yZXF1ZXJpcmEtbXhuMTYwMDAwLW1pbGxvbmVzLWFudWFsZXMtcGFyYS1lbmZyZW50YXItZXNjYXNlei1kZS1hZ3VhL9IBpAFodHRwczovL3d3dy5ibG9vbWJlcmdsaW5lYS5jb20vbGF0aW5vYW1lcmljYS9tZXhpY28vcHJveGltby1wcmVzaWRlbnRlLWRlLW1leGljby1yZXF1ZXJpcmEtbXhuMTYwMDAwLW1pbGxvbmVzLWFudWFsZXMtcGFyYS1lbmZyZW50YXItZXNjYXNlei1kZS1hZ3VhLz9vdXRwdXRUeXBlPWFtcA?oc=5&hl=en-US&gl=US&ceid=US:en',\n",
       "  'publisher': {'href': 'https://www.bloomberglinea.com',\n",
       "   'title': 'Bloomberg Línea Latinoamérica'}},\n",
       " {'title': 'Promete Xóchitl atender la crisis de agua en CDMX - meganoticias',\n",
       "  'description': 'Promete Xóchitl atender la crisis de agua en CDMX  meganoticias',\n",
       "  'published date': 'Sun, 03 Mar 2024 00:57:47 GMT',\n",
       "  'url': 'https://news.google.com/rss/articles/CBMiYWh0dHBzOi8vd3d3Lm1lZ2Fub3RpY2lhcy5teC9jZG14L25vdGljaWEvcHJvbWV0ZS14b2NoaXRsLWF0ZW5kZXItbGEtY3Jpc2lzLWRlLWFndWEtZW4tY2RteC81MDE1MzXSAQA?oc=5&hl=en-US&gl=US&ceid=US:en',\n",
       "  'publisher': {'href': 'https://www.meganoticias.mx',\n",
       "   'title': 'meganoticias'}},\n",
       " {'title': 'Xóchitl Gálvez propone cambiar los baños en las casas de México | Noticias de México - El Imparcial',\n",
       "  'description': 'Xóchitl Gálvez propone cambiar los baños en las casas de México | Noticias de México  El Imparcial',\n",
       "  'published date': 'Sun, 03 Mar 2024 18:42:11 GMT',\n",
       "  'url': 'https://news.google.com/rss/articles/CBMibmh0dHBzOi8vd3d3LmVsaW1wYXJjaWFsLmNvbS9tZXhpY28vMjAyNC8wMy8wMy94b2NoaXRsLWdhbHZlei1wcm9wb25lLWNhbWJpYXItbG9zLWJhbm9zLWVuLWxhcy1jYXNhcy1kZS1tZXhpY28v0gEA?oc=5&hl=en-US&gl=US&ceid=US:en',\n",
       "  'publisher': {'href': 'https://www.elimparcial.com',\n",
       "   'title': 'El Imparcial'}},\n",
       " {'title': 'Presentan decálogo a candidatos presidenciales para enfrentar el desafío hídrico de México - El Economista',\n",
       "  'description': 'Presentan decálogo a candidatos presidenciales para enfrentar el desafío hídrico de México  El Economista',\n",
       "  'published date': 'Thu, 07 Mar 2024 18:31:00 GMT',\n",
       "  'url': 'https://news.google.com/rss/articles/CBMilgFodHRwczovL3d3dy5lbGVjb25vbWlzdGEuY29tLm14L3BvbGl0aWNhL1ByZXNlbnRhbi1kZWNhbG9nby1hLWNhbmRpZGF0b3MtcHJlc2lkZW5jaWFsZXMtcGFyYS1lbmZyZW50YXItZWwtZGVzYWZpby1oaWRyaWNvLWRlLU1leGljby0yMDI0MDMwNy0wMDU1Lmh0bWzSAZoBaHR0cHM6Ly93d3cuZWxlY29ub21pc3RhLmNvbS5teC9hbXAvcG9saXRpY2EvUHJlc2VudGFuLWRlY2Fsb2dvLWEtY2FuZGlkYXRvcy1wcmVzaWRlbmNpYWxlcy1wYXJhLWVuZnJlbnRhci1lbC1kZXNhZmlvLWhpZHJpY28tZGUtTWV4aWNvLTIwMjQwMzA3LTAwNTUuaHRtbA?oc=5&hl=en-US&gl=US&ceid=US:en',\n",
       "  'publisher': {'href': 'https://www.eleconomista.com.mx',\n",
       "   'title': 'El Economista'}},\n",
       " {'title': 'Xóchitl reta a Claudia a beber agua de pipa - AGENCIA FRONTERIZA DE NOTICIAS',\n",
       "  'description': 'Xóchitl reta a Claudia a beber agua de pipa  AGENCIA FRONTERIZA DE NOTICIAS',\n",
       "  'published date': 'Sun, 03 Mar 2024 22:36:18 GMT',\n",
       "  'url': 'https://news.google.com/rss/articles/CBMiWmh0dHBzOi8vYWZudGlqdWFuYS5pbmZvL2VsZWNjaW9uZXNfMjAyNC8xNDg2NDFfeG9jaGl0bF9yZXRhX2FfY2xhdWRpYV9hX2JlYmVyX2FndWFfZGVfcGlwYdIBAA?oc=5&hl=en-US&gl=US&ceid=US:en',\n",
       "  'publisher': {'href': 'https://afntijuana.info',\n",
       "   'title': 'AGENCIA FRONTERIZA DE NOTICIAS'}},\n",
       " {'title': 'Plan de seguridad de Xóchitl Gálvez: estos son los 15 puntos de su estrategia - Político MX',\n",
       "  'description': 'Plan de seguridad de Xóchitl Gálvez: estos son los 15 puntos de su estrategia  Político MX',\n",
       "  'published date': 'Mon, 04 Mar 2024 18:59:00 GMT',\n",
       "  'url': 'https://news.google.com/rss/articles/CBMiYGh0dHBzOi8vcG9saXRpY28ubXgvcGxhbi1kZS1zZWd1cmlkYWQtZGUteG9jaGl0bC1nYWx2ZXotZXN0b3Mtc29uLWxvcy0xNS1wdW50b3MtZGUtc3UtZXN0cmF0ZWdpYdIBZGh0dHBzOi8vYW1wLnBvbGl0aWNvLm14L3BsYW4tZGUtc2VndXJpZGFkLWRlLXhvY2hpdGwtZ2FsdmV6LWVzdG9zLXNvbi1sb3MtMTUtcHVudG9zLWRlLXN1LWVzdHJhdGVnaWE?oc=5&hl=en-US&gl=US&ceid=US:en',\n",
       "  'publisher': {'href': 'https://politico.mx', 'title': 'Político MX'}},\n",
       " {'title': 'Sheinbaum, Gálvez y Álvarez Máynez en diferentes estados - Milenio',\n",
       "  'description': 'Sheinbaum, Gálvez y Álvarez Máynez en diferentes estados  Milenio',\n",
       "  'published date': 'Wed, 06 Mar 2024 08:24:57 GMT',\n",
       "  'url': 'https://news.google.com/rss/articles/CBMid2h0dHBzOi8vd3d3Lm1pbGVuaW8uY29tL3ZpZGVvcy9wb2xpdGljYS9lbGVjY2lvbmVzL2NsYXVkaWEtc2hlaW5iYXVtLXhvY2hpdGwtZ2FsdmV6LWpvcmdlLWFsdmFyZXotbWF5bmV6LXJ1dGEtZWxlY3RvcmFs0gF3aHR0cHM6Ly9hbXAubWlsZW5pby5jb20vdmlkZW9zL3BvbGl0aWNhL2VsZWNjaW9uZXMvY2xhdWRpYS1zaGVpbmJhdW0teG9jaGl0bC1nYWx2ZXotam9yZ2UtYWx2YXJlei1tYXluZXotcnV0YS1lbGVjdG9yYWw?oc=5&hl=en-US&gl=US&ceid=US:en',\n",
       "  'publisher': {'href': 'https://www.milenio.com', 'title': 'Milenio'}},\n",
       " {'title': 'Nombres, nombres y... nombres / Arreciará crisis de agua en mayo por falta de inversión, Cutzamala 40,000 mdp y por plan a 2050 - El Sol de México',\n",
       "  'description': 'Nombres, nombres y... nombres / Arreciará crisis de agua en mayo por falta de inversión, Cutzamala 40,000 mdp y por plan a 2050  El Sol de México',\n",
       "  'published date': 'Thu, 07 Mar 2024 09:03:14 GMT',\n",
       "  'url': 'https://news.google.com/rss/articles/CBMirwFodHRwczovL3d3dy5lbHNvbGRlbWV4aWNvLmNvbS5teC9hbmFsaXNpcy9ub21icmVzLW5vbWJyZXMteS1ub21icmVzLWFycmVjaWFyYS1jcmlzaXMtZGUtYWd1YS1lbi1tYXlvLXBvci1mYWx0YS1kZS1pbnZlcnNpb24tY3V0emFtYWxhLTQwMDAwLW1kcC15LXBvci1wbGFuLWEtMjA1MC0xMTU1ODA0NC5odG1s0gGvAWh0dHBzOi8vd3d3LmVsc29sZGVtZXhpY28uY29tLm14L2FuYWxpc2lzL25vbWJyZXMtbm9tYnJlcy15LW5vbWJyZXMtYXJyZWNpYXJhLWNyaXNpcy1kZS1hZ3VhLWVuLW1heW8tcG9yLWZhbHRhLWRlLWludmVyc2lvbi1jdXR6YW1hbGEtNDAwMDAtbWRwLXktcG9yLXBsYW4tYS0yMDUwLTExNTU4MDQ0Lmh0bWw?oc=5&hl=en-US&gl=US&ceid=US:en',\n",
       "  'publisher': {'href': 'https://www.elsoldemexico.com.mx',\n",
       "   'title': 'El Sol de México'}}]"
      ]
     },
     "execution_count": 6,
     "metadata": {},
     "output_type": "execute_result"
    }
   ],
   "source": [
    "google_news = GNews(language='es', \n",
    "                    country='Mexico', \n",
    "                    period='10d', \n",
    "                    start_date=None, \n",
    "                    end_date=None, \n",
    "                    max_results=10, \n",
    "                    #exclude_websites=['yahoo.com', 'cnn.com'],\n",
    "                    #proxy=proxy\n",
    "                    )\n",
    "news = google_news.get_news('Crisis del agua cdmx Xochitl galvez y claudia sheinbaum')\n",
    "news"
   ]
  },
  {
   "cell_type": "code",
   "execution_count": 8,
   "metadata": {},
   "outputs": [
    {
     "data": {
      "text/plain": [
       "5"
      ]
     },
     "execution_count": 8,
     "metadata": {},
     "output_type": "execute_result"
    }
   ],
   "source": [
    "k"
   ]
  },
  {
   "cell_type": "code",
   "execution_count": 9,
   "metadata": {},
   "outputs": [
    {
     "name": "stderr",
     "output_type": "stream",
     "text": [
      "03/12/2024 04:10:31 PM - ====== WebDriver manager ======\n",
      "/bin/sh: line 1: google-chrome: command not found\n",
      "/bin/sh: line 1: google-chrome: command not found\n",
      "03/12/2024 04:10:31 PM - Get LATEST chromedriver version for google-chrome\n",
      "03/12/2024 04:10:32 PM - Get LATEST chromedriver version for google-chrome\n",
      "03/12/2024 04:10:32 PM - Driver [/home/uumami/.wdm/drivers/chromedriver/linux64/115.0.5790.170/chromedriver-linux64/chromedriver] found in cache\n"
     ]
    },
    {
     "ename": "KeyboardInterrupt",
     "evalue": "",
     "output_type": "error",
     "traceback": [
      "\u001b[0;31m---------------------------------------------------------------------------\u001b[0m",
      "\u001b[0;31mKeyboardInterrupt\u001b[0m                         Traceback (most recent call last)",
      "Cell \u001b[0;32mIn[9], line 7\u001b[0m\n\u001b[1;32m      5\u001b[0m \u001b[38;5;28;01melse\u001b[39;00m:\n\u001b[1;32m      6\u001b[0m     article \u001b[38;5;241m=\u001b[39m naive_spyder(google_news,news,k)\n\u001b[0;32m----> 7\u001b[0m     article \u001b[38;5;241m=\u001b[39m \u001b[43mscrape_news_article\u001b[49m\u001b[43m(\u001b[49m\u001b[43marticle\u001b[49m\u001b[43m)\u001b[49m\n\u001b[1;32m      8\u001b[0m     articles\u001b[38;5;241m.\u001b[39mappend(article)\n",
      "File \u001b[0;32m~/sonder-art/magon/scrapper/selenium_spyder.py:179\u001b[0m, in \u001b[0;36mscrape_news_article\u001b[0;34m(article)\u001b[0m\n\u001b[1;32m    175\u001b[0m page_content \u001b[38;5;241m=\u001b[39m get_page_content(url)\n\u001b[1;32m    177\u001b[0m \u001b[38;5;28;01mif\u001b[39;00m page_content:\n\u001b[1;32m    178\u001b[0m     \u001b[38;5;66;03m# Try extracting content using the existing function first\u001b[39;00m\n\u001b[0;32m--> 179\u001b[0m     article_content \u001b[38;5;241m=\u001b[39m \u001b[43mextract_article_content_selenium\u001b[49m\u001b[43m(\u001b[49m\u001b[43murl\u001b[49m\u001b[43m)\u001b[49m\n\u001b[1;32m    180\u001b[0m     \u001b[38;5;66;03m# If the content is empty, try the new function for JavaScript-rendered content\u001b[39;00m\n\u001b[1;32m    181\u001b[0m     \u001b[38;5;28;01mif\u001b[39;00m \u001b[38;5;129;01mnot\u001b[39;00m article_content\u001b[38;5;241m.\u001b[39mstrip():\n",
      "File \u001b[0;32m~/sonder-art/magon/scrapper/selenium_spyder.py:77\u001b[0m, in \u001b[0;36mextract_article_content_selenium\u001b[0;34m(url, proxy)\u001b[0m\n\u001b[1;32m     73\u001b[0m     article_element \u001b[38;5;241m=\u001b[39m WebDriverWait(driver, \u001b[38;5;241m10\u001b[39m)\u001b[38;5;241m.\u001b[39muntil(\n\u001b[1;32m     74\u001b[0m         EC\u001b[38;5;241m.\u001b[39mpresence_of_element_located((By\u001b[38;5;241m.\u001b[39mXPATH, \u001b[38;5;124mf\u001b[39m\u001b[38;5;124m\"\u001b[39m\u001b[38;5;124m//*[@itemprop=\u001b[39m\u001b[38;5;124m'\u001b[39m\u001b[38;5;132;01m{\u001b[39;00mtag[\u001b[38;5;124m'\u001b[39m\u001b[38;5;124mitemprop\u001b[39m\u001b[38;5;124m'\u001b[39m]\u001b[38;5;132;01m}\u001b[39;00m\u001b[38;5;124m'\u001b[39m\u001b[38;5;124m]\u001b[39m\u001b[38;5;124m\"\u001b[39m))\n\u001b[1;32m     75\u001b[0m     )\n\u001b[1;32m     76\u001b[0m \u001b[38;5;28;01melse\u001b[39;00m:\n\u001b[0;32m---> 77\u001b[0m     article_element \u001b[38;5;241m=\u001b[39m \u001b[43mWebDriverWait\u001b[49m\u001b[43m(\u001b[49m\u001b[43mdriver\u001b[49m\u001b[43m,\u001b[49m\u001b[43m \u001b[49m\u001b[38;5;241;43m10\u001b[39;49m\u001b[43m)\u001b[49m\u001b[38;5;241;43m.\u001b[39;49m\u001b[43muntil\u001b[49m\u001b[43m(\u001b[49m\n\u001b[1;32m     78\u001b[0m \u001b[43m        \u001b[49m\u001b[43mEC\u001b[49m\u001b[38;5;241;43m.\u001b[39;49m\u001b[43mpresence_of_element_located\u001b[49m\u001b[43m(\u001b[49m\u001b[43m(\u001b[49m\u001b[43mBy\u001b[49m\u001b[38;5;241;43m.\u001b[39;49m\u001b[43mTAG_NAME\u001b[49m\u001b[43m,\u001b[49m\u001b[43m \u001b[49m\u001b[43mtag\u001b[49m\u001b[43m[\u001b[49m\u001b[38;5;124;43m'\u001b[39;49m\u001b[38;5;124;43mname\u001b[39;49m\u001b[38;5;124;43m'\u001b[39;49m\u001b[43m]\u001b[49m\u001b[43m)\u001b[49m\u001b[43m)\u001b[49m\n\u001b[1;32m     79\u001b[0m \u001b[43m    \u001b[49m\u001b[43m)\u001b[49m\n\u001b[1;32m     81\u001b[0m paragraphs \u001b[38;5;241m=\u001b[39m article_element\u001b[38;5;241m.\u001b[39mfind_elements(By\u001b[38;5;241m.\u001b[39mTAG_NAME, \u001b[38;5;124m'\u001b[39m\u001b[38;5;124mp\u001b[39m\u001b[38;5;124m'\u001b[39m)\n\u001b[1;32m     82\u001b[0m article_content \u001b[38;5;241m=\u001b[39m \u001b[38;5;124m'\u001b[39m\u001b[38;5;130;01m\\n\u001b[39;00m\u001b[38;5;124m'\u001b[39m\u001b[38;5;241m.\u001b[39mjoin([p\u001b[38;5;241m.\u001b[39mtext \u001b[38;5;28;01mfor\u001b[39;00m p \u001b[38;5;129;01min\u001b[39;00m paragraphs])\n",
      "File \u001b[0;32m~/sonder-art/magon/.venv/lib/python3.11/site-packages/selenium/webdriver/support/wait.py:102\u001b[0m, in \u001b[0;36mWebDriverWait.until\u001b[0;34m(self, method, message)\u001b[0m\n\u001b[1;32m    100\u001b[0m     screen \u001b[38;5;241m=\u001b[39m \u001b[38;5;28mgetattr\u001b[39m(exc, \u001b[38;5;124m\"\u001b[39m\u001b[38;5;124mscreen\u001b[39m\u001b[38;5;124m\"\u001b[39m, \u001b[38;5;28;01mNone\u001b[39;00m)\n\u001b[1;32m    101\u001b[0m     stacktrace \u001b[38;5;241m=\u001b[39m \u001b[38;5;28mgetattr\u001b[39m(exc, \u001b[38;5;124m\"\u001b[39m\u001b[38;5;124mstacktrace\u001b[39m\u001b[38;5;124m\"\u001b[39m, \u001b[38;5;28;01mNone\u001b[39;00m)\n\u001b[0;32m--> 102\u001b[0m time\u001b[38;5;241m.\u001b[39msleep(\u001b[38;5;28mself\u001b[39m\u001b[38;5;241m.\u001b[39m_poll)\n\u001b[1;32m    103\u001b[0m \u001b[38;5;28;01mif\u001b[39;00m time\u001b[38;5;241m.\u001b[39mmonotonic() \u001b[38;5;241m>\u001b[39m end_time:\n\u001b[1;32m    104\u001b[0m     \u001b[38;5;28;01mbreak\u001b[39;00m\n",
      "\u001b[0;31mKeyboardInterrupt\u001b[0m: "
     ]
    }
   ],
   "source": [
    "articles = []\n",
    "for k in range(len(news)):\n",
    "    if k <=5:\n",
    "        pass\n",
    "    else:\n",
    "        article = naive_spyder(google_news,news,k)\n",
    "        article = scrape_news_article(article)\n",
    "        articles.append(article)\n"
   ]
  },
  {
   "cell_type": "code",
   "execution_count": 4,
   "metadata": {},
   "outputs": [],
   "source": [
    "\n",
    "os.makedirs('demo_data/scrapper_demo', exist_ok=True)\n",
    "os.makedirs('demo_data/scrapper_demo/articles', exist_ok=True)\n",
    "\n",
    "articles = serialize_dict_non_recursive(articles)\n",
    "with open('demo_data/scrapper_demo/all.json', 'w') as json_file:\n",
    "    json.dump(articles, json_file)"
   ]
  },
  {
   "cell_type": "code",
   "execution_count": 5,
   "metadata": {},
   "outputs": [],
   "source": [
    "for a in articles:\n",
    "    title = a['title']\n",
    "    text = a['content']\n",
    "    full_content = title + \"\\n\" + text\n",
    "    with open(os.path.join('demo_data/scrapper_demo/articles', f'{title}.txt'), 'w') as file:\n",
    "        file.write(full_content)\n",
    "    "
   ]
  }
 ],
 "metadata": {
  "kernelspec": {
   "display_name": ".venv",
   "language": "python",
   "name": "python3"
  },
  "language_info": {
   "codemirror_mode": {
    "name": "ipython",
    "version": 3
   },
   "file_extension": ".py",
   "mimetype": "text/x-python",
   "name": "python",
   "nbconvert_exporter": "python",
   "pygments_lexer": "ipython3",
   "version": "3.11.6"
  }
 },
 "nbformat": 4,
 "nbformat_minor": 2
}
