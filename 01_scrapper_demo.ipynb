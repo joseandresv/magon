{
 "cells": [
  {
   "cell_type": "code",
   "execution_count": 1,
   "metadata": {},
   "outputs": [],
   "source": [
    "from gnews import GNews\n",
    "\n",
    "from scrapper.naive_spyder import naive_spyder\n",
    "from scrapper.selenium_spyder import scrape_news_article\n",
    "from scrapper.serialize_json import serialize_dict_non_recursive\n",
    "    \n",
    "import json\n",
    "import os"
   ]
  },
  {
   "cell_type": "code",
   "execution_count": 2,
   "metadata": {},
   "outputs": [],
   "source": [
    "google_news = GNews(language='es', \n",
    "                    country='Mexico', \n",
    "                    period='10d', \n",
    "                    start_date=None, \n",
    "                    end_date=None, \n",
    "                    max_results=10, \n",
    "                    #exclude_websites=['yahoo.com', 'cnn.com'],\n",
    "                    #proxy=proxy\n",
    "                    )\n",
    "\n",
    "news = google_news.get_news('Crisis del agua cdmx Xochitl galvez y claudia sheinbaum')\n",
    "\n",
    "for n in news:\n",
    "    n['checks'] = {\n",
    "        'naive_spyder':False,\n",
    "        'selenium_spyder':False\n",
    "    }"
   ]
  },
  {
   "cell_type": "code",
   "execution_count": 3,
   "metadata": {},
   "outputs": [
    {
     "name": "stderr",
     "output_type": "stream",
     "text": [
      "03/13/2024 03:46:34 PM - ====== WebDriver manager ======\n",
      "/bin/sh: line 1: google-chrome: command not found\n",
      "/bin/sh: line 1: google-chrome: command not found\n",
      "03/13/2024 03:46:35 PM - Get LATEST chromedriver version for google-chrome\n",
      "03/13/2024 03:46:35 PM - Get LATEST chromedriver version for google-chrome\n",
      "03/13/2024 03:46:35 PM - Driver [/home/uumami/.wdm/drivers/chromedriver/linux64/115.0.5790.170/chromedriver-linux64/chromedriver] found in cache\n",
      "03/13/2024 03:46:41 PM - ====== WebDriver manager ======\n",
      "/bin/sh: line 1: google-chrome: command not found\n",
      "/bin/sh: line 1: google-chrome: command not found\n",
      "03/13/2024 03:46:41 PM - Get LATEST chromedriver version for google-chrome\n",
      "03/13/2024 03:46:41 PM - Get LATEST chromedriver version for google-chrome\n",
      "03/13/2024 03:46:41 PM - Driver [/home/uumami/.wdm/drivers/chromedriver/linux64/115.0.5790.170/chromedriver-linux64/chromedriver] found in cache\n",
      "03/13/2024 03:46:45 PM - ====== WebDriver manager ======\n",
      "/bin/sh: line 1: google-chrome: command not found\n",
      "/bin/sh: line 1: google-chrome: command not found\n",
      "03/13/2024 03:46:45 PM - Get LATEST chromedriver version for google-chrome\n",
      "03/13/2024 03:46:45 PM - Get LATEST chromedriver version for google-chrome\n",
      "03/13/2024 03:46:45 PM - Driver [/home/uumami/.wdm/drivers/chromedriver/linux64/115.0.5790.170/chromedriver-linux64/chromedriver] found in cache\n",
      "03/13/2024 03:46:54 PM - ====== WebDriver manager ======\n",
      "/bin/sh: line 1: google-chrome: command not found\n",
      "/bin/sh: line 1: google-chrome: command not found\n",
      "03/13/2024 03:46:54 PM - Get LATEST chromedriver version for google-chrome\n",
      "03/13/2024 03:46:55 PM - Get LATEST chromedriver version for google-chrome\n",
      "03/13/2024 03:46:55 PM - Driver [/home/uumami/.wdm/drivers/chromedriver/linux64/115.0.5790.170/chromedriver-linux64/chromedriver] found in cache\n",
      "03/13/2024 03:47:01 PM - ====== WebDriver manager ======\n",
      "/bin/sh: line 1: google-chrome: command not found\n",
      "/bin/sh: line 1: google-chrome: command not found\n",
      "03/13/2024 03:47:01 PM - Get LATEST chromedriver version for google-chrome\n",
      "03/13/2024 03:47:01 PM - Get LATEST chromedriver version for google-chrome\n",
      "03/13/2024 03:47:02 PM - Driver [/home/uumami/.wdm/drivers/chromedriver/linux64/115.0.5790.170/chromedriver-linux64/chromedriver] found in cache\n"
     ]
    },
    {
     "name": "stdout",
     "output_type": "stream",
     "text": [
      "An error occurred while fetching the article: Article `download()` failed with 403 Client Error: Forbidden for url: https://www.eleconomista.com.mx/politica/Presentan-decalogo-a-candidatos-presidenciales-para-enfrentar-el-desafio-hidrico-de-Mexico-20240307-0055.html on URL https://news.google.com/rss/articles/CBMilgFodHRwczovL3d3dy5lbGVjb25vbWlzdGEuY29tLm14L3BvbGl0aWNhL1ByZXNlbnRhbi1kZWNhbG9nby1hLWNhbmRpZGF0b3MtcHJlc2lkZW5jaWFsZXMtcGFyYS1lbmZyZW50YXItZWwtZGVzYWZpby1oaWRyaWNvLWRlLU1leGljby0yMDI0MDMwNy0wMDU1Lmh0bWzSAZoBaHR0cHM6Ly93d3cuZWxlY29ub21pc3RhLmNvbS5teC9hbXAvcG9saXRpY2EvUHJlc2VudGFuLWRlY2Fsb2dvLWEtY2FuZGlkYXRvcy1wcmVzaWRlbmNpYWxlcy1wYXJhLWVuZnJlbnRhci1lbC1kZXNhZmlvLWhpZHJpY28tZGUtTWV4aWNvLTIwMjQwMzA3LTAwNTUuaHRtbA?oc=5&hl=en-US&gl=US&ceid=US:en\n"
     ]
    },
    {
     "name": "stderr",
     "output_type": "stream",
     "text": [
      "03/13/2024 03:47:09 PM - ====== WebDriver manager ======\n",
      "/bin/sh: line 1: google-chrome: command not found\n",
      "/bin/sh: line 1: google-chrome: command not found\n",
      "03/13/2024 03:47:09 PM - Get LATEST chromedriver version for google-chrome\n",
      "03/13/2024 03:47:09 PM - Get LATEST chromedriver version for google-chrome\n",
      "03/13/2024 03:47:10 PM - Driver [/home/uumami/.wdm/drivers/chromedriver/linux64/115.0.5790.170/chromedriver-linux64/chromedriver] found in cache\n",
      "03/13/2024 03:47:15 PM - ====== WebDriver manager ======\n",
      "/bin/sh: line 1: google-chrome: command not found\n",
      "/bin/sh: line 1: google-chrome: command not found\n",
      "03/13/2024 03:47:15 PM - Get LATEST chromedriver version for google-chrome\n",
      "03/13/2024 03:47:16 PM - Get LATEST chromedriver version for google-chrome\n",
      "03/13/2024 03:47:16 PM - Driver [/home/uumami/.wdm/drivers/chromedriver/linux64/115.0.5790.170/chromedriver-linux64/chromedriver] found in cache\n",
      "03/13/2024 03:47:58 PM - ====== WebDriver manager ======\n",
      "/bin/sh: line 1: google-chrome: command not found\n",
      "/bin/sh: line 1: google-chrome: command not found\n",
      "03/13/2024 03:47:59 PM - Get LATEST chromedriver version for google-chrome\n",
      "03/13/2024 03:47:59 PM - Get LATEST chromedriver version for google-chrome\n",
      "03/13/2024 03:47:59 PM - Driver [/home/uumami/.wdm/drivers/chromedriver/linux64/115.0.5790.170/chromedriver-linux64/chromedriver] found in cache\n"
     ]
    }
   ],
   "source": [
    "articles = []\n",
    "for k in range(len(news)):\n",
    "    article = naive_spyder(google_news,news,k)\n",
    "    article = scrape_news_article(article)\n",
    "    articles.append(article)\n"
   ]
  },
  {
   "cell_type": "code",
   "execution_count": null,
   "metadata": {},
   "outputs": [],
   "source": [
    "os.makedirs('demo_data/scrapper_demo', exist_ok=True)\n",
    "os.makedirs('demo_data/scrapper_demo/articles', exist_ok=True)\n",
    "\n",
    "articles = serialize_dict_non_recursive(articles)\n",
    "with open('demo_data/scrapper_demo/all.json', 'w') as json_file:\n",
    "    json.dump(articles, json_file)"
   ]
  },
  {
   "cell_type": "code",
   "execution_count": null,
   "metadata": {},
   "outputs": [],
   "source": [
    "for a in articles:\n",
    "    try:\n",
    "        title = a['title'].replace('/','')\n",
    "        text = a['content']\n",
    "        full_content = title + \"\\n\" + text\n",
    "        with open(os.path.join('demo_data/scrapper_demo/articles', f'{title}.txt'), 'w') as file:\n",
    "            file.write(full_content)\n",
    "    except:\n",
    "        pass\n",
    "        "
   ]
  }
 ],
 "metadata": {
  "kernelspec": {
   "display_name": ".venv",
   "language": "python",
   "name": "python3"
  },
  "language_info": {
   "codemirror_mode": {
    "name": "ipython",
    "version": 3
   },
   "file_extension": ".py",
   "mimetype": "text/x-python",
   "name": "python",
   "nbconvert_exporter": "python",
   "pygments_lexer": "ipython3",
   "version": "3.11.6"
  }
 },
 "nbformat": 4,
 "nbformat_minor": 2
}
