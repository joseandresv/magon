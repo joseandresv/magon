{
 "cells": [
  {
   "cell_type": "code",
   "execution_count": 1,
   "metadata": {},
   "outputs": [],
   "source": [
    "from gnews import GNews\n",
    "\n",
    "from scrapper.naive_spyder import naive_spyder\n",
    "from scrapper.selenium_spyder import scrape_news_article\n",
    "from scrapper.serialize_json import serialize_dict_non_recursive\n",
    "    \n",
    "import json\n",
    "import os"
   ]
  },
  {
   "cell_type": "code",
   "execution_count": 2,
   "metadata": {},
   "outputs": [],
   "source": [
    "google_news = GNews(language='es', \n",
    "                    country='Mexico', \n",
    "                    period='10d', \n",
    "                    start_date=None, \n",
    "                    end_date=None, \n",
    "                    max_results=10, \n",
    "                    #exclude_websites=['yahoo.com', 'cnn.com'],\n",
    "                    #proxy=proxy\n",
    "                    )\n",
    "\n",
    "news = google_news.get_news('Crisis del agua cdmx Xochitl galvez y claudia sheinbaum')\n",
    "\n",
    "for n in news:\n",
    "    n['checks'] = {\n",
    "        'naive_spyder':False,\n",
    "        'selenium_spyder':False\n",
    "    }"
   ]
  },
  {
   "cell_type": "code",
   "execution_count": 3,
   "metadata": {},
   "outputs": [
    {
     "name": "stderr",
     "output_type": "stream",
     "text": [
      "03/13/2024 03:46:34 PM - ====== WebDriver manager ======\n",
      "/bin/sh: line 1: google-chrome: command not found\n",
      "/bin/sh: line 1: google-chrome: command not found\n",
      "03/13/2024 03:46:35 PM - Get LATEST chromedriver version for google-chrome\n",
      "03/13/2024 03:46:35 PM - Get LATEST chromedriver version for google-chrome\n",
      "03/13/2024 03:46:35 PM - Driver [/home/uumami/.wdm/drivers/chromedriver/linux64/115.0.5790.170/chromedriver-linux64/chromedriver] found in cache\n",
      "03/13/2024 03:46:41 PM - ====== WebDriver manager ======\n",
      "/bin/sh: line 1: google-chrome: command not found\n",
      "/bin/sh: line 1: google-chrome: command not found\n",
      "03/13/2024 03:46:41 PM - Get LATEST chromedriver version for google-chrome\n",
      "03/13/2024 03:46:41 PM - Get LATEST chromedriver version for google-chrome\n",
      "03/13/2024 03:46:41 PM - Driver [/home/uumami/.wdm/drivers/chromedriver/linux64/115.0.5790.170/chromedriver-linux64/chromedriver] found in cache\n",
      "03/13/2024 03:46:45 PM - ====== WebDriver manager ======\n",
      "/bin/sh: line 1: google-chrome: command not found\n",
      "/bin/sh: line 1: google-chrome: command not found\n",
      "03/13/2024 03:46:45 PM - Get LATEST chromedriver version for google-chrome\n",
      "03/13/2024 03:46:45 PM - Get LATEST chromedriver version for google-chrome\n",
      "03/13/2024 03:46:45 PM - Driver [/home/uumami/.wdm/drivers/chromedriver/linux64/115.0.5790.170/chromedriver-linux64/chromedriver] found in cache\n",
      "03/13/2024 03:46:54 PM - ====== WebDriver manager ======\n",
      "/bin/sh: line 1: google-chrome: command not found\n",
      "/bin/sh: line 1: google-chrome: command not found\n",
      "03/13/2024 03:46:54 PM - Get LATEST chromedriver version for google-chrome\n",
      "03/13/2024 03:46:55 PM - Get LATEST chromedriver version for google-chrome\n",
      "03/13/2024 03:46:55 PM - Driver [/home/uumami/.wdm/drivers/chromedriver/linux64/115.0.5790.170/chromedriver-linux64/chromedriver] found in cache\n",
      "03/13/2024 03:47:01 PM - ====== WebDriver manager ======\n",
      "/bin/sh: line 1: google-chrome: command not found\n",
      "/bin/sh: line 1: google-chrome: command not found\n",
      "03/13/2024 03:47:01 PM - Get LATEST chromedriver version for google-chrome\n",
      "03/13/2024 03:47:01 PM - Get LATEST chromedriver version for google-chrome\n",
      "03/13/2024 03:47:02 PM - Driver [/home/uumami/.wdm/drivers/chromedriver/linux64/115.0.5790.170/chromedriver-linux64/chromedriver] found in cache\n"
     ]
    },
    {
     "name": "stdout",
     "output_type": "stream",
     "text": [
      "An error occurred while fetching the article: Article `download()` failed with 403 Client Error: Forbidden for url: https://www.eleconomista.com.mx/politica/Presentan-decalogo-a-candidatos-presidenciales-para-enfrentar-el-desafio-hidrico-de-Mexico-20240307-0055.html on URL https://news.google.com/rss/articles/CBMilgFodHRwczovL3d3dy5lbGVjb25vbWlzdGEuY29tLm14L3BvbGl0aWNhL1ByZXNlbnRhbi1kZWNhbG9nby1hLWNhbmRpZGF0b3MtcHJlc2lkZW5jaWFsZXMtcGFyYS1lbmZyZW50YXItZWwtZGVzYWZpby1oaWRyaWNvLWRlLU1leGljby0yMDI0MDMwNy0wMDU1Lmh0bWzSAZoBaHR0cHM6Ly93d3cuZWxlY29ub21pc3RhLmNvbS5teC9hbXAvcG9saXRpY2EvUHJlc2VudGFuLWRlY2Fsb2dvLWEtY2FuZGlkYXRvcy1wcmVzaWRlbmNpYWxlcy1wYXJhLWVuZnJlbnRhci1lbC1kZXNhZmlvLWhpZHJpY28tZGUtTWV4aWNvLTIwMjQwMzA3LTAwNTUuaHRtbA?oc=5&hl=en-US&gl=US&ceid=US:en\n"
     ]
    },
    {
     "name": "stderr",
     "output_type": "stream",
     "text": [
      "03/13/2024 03:47:09 PM - ====== WebDriver manager ======\n",
      "/bin/sh: line 1: google-chrome: command not found\n",
      "/bin/sh: line 1: google-chrome: command not found\n",
      "03/13/2024 03:47:09 PM - Get LATEST chromedriver version for google-chrome\n",
      "03/13/2024 03:47:09 PM - Get LATEST chromedriver version for google-chrome\n",
      "03/13/2024 03:47:10 PM - Driver [/home/uumami/.wdm/drivers/chromedriver/linux64/115.0.5790.170/chromedriver-linux64/chromedriver] found in cache\n",
      "03/13/2024 03:47:15 PM - ====== WebDriver manager ======\n",
      "/bin/sh: line 1: google-chrome: command not found\n",
      "/bin/sh: line 1: google-chrome: command not found\n",
      "03/13/2024 03:47:15 PM - Get LATEST chromedriver version for google-chrome\n",
      "03/13/2024 03:47:16 PM - Get LATEST chromedriver version for google-chrome\n",
      "03/13/2024 03:47:16 PM - Driver [/home/uumami/.wdm/drivers/chromedriver/linux64/115.0.5790.170/chromedriver-linux64/chromedriver] found in cache\n",
      "03/13/2024 03:47:58 PM - ====== WebDriver manager ======\n",
      "/bin/sh: line 1: google-chrome: command not found\n",
      "/bin/sh: line 1: google-chrome: command not found\n",
      "03/13/2024 03:47:59 PM - Get LATEST chromedriver version for google-chrome\n",
      "03/13/2024 03:47:59 PM - Get LATEST chromedriver version for google-chrome\n",
      "03/13/2024 03:47:59 PM - Driver [/home/uumami/.wdm/drivers/chromedriver/linux64/115.0.5790.170/chromedriver-linux64/chromedriver] found in cache\n",
      "03/13/2024 03:50:48 PM - ====== WebDriver manager ======\n",
      "/bin/sh: line 1: google-chrome: command not found\n",
      "/bin/sh: line 1: google-chrome: command not found\n",
      "03/13/2024 03:50:48 PM - Get LATEST chromedriver version for google-chrome\n",
      "03/13/2024 03:50:48 PM - Get LATEST chromedriver version for google-chrome\n",
      "03/13/2024 03:50:49 PM - Driver [/home/uumami/.wdm/drivers/chromedriver/linux64/115.0.5790.170/chromedriver-linux64/chromedriver] found in cache\n",
      "03/13/2024 03:51:01 PM - ====== WebDriver manager ======\n",
      "/bin/sh: line 1: google-chrome: command not found\n",
      "/bin/sh: line 1: google-chrome: command not found\n",
      "03/13/2024 03:51:02 PM - Get LATEST chromedriver version for google-chrome\n",
      "03/13/2024 03:51:02 PM - Get LATEST chromedriver version for google-chrome\n",
      "03/13/2024 03:51:02 PM - Driver [/home/uumami/.wdm/drivers/chromedriver/linux64/115.0.5790.170/chromedriver-linux64/chromedriver] found in cache\n"
     ]
    },
    {
     "ename": "KeyboardInterrupt",
     "evalue": "",
     "output_type": "error",
     "traceback": [
      "\u001b[0;31m---------------------------------------------------------------------------\u001b[0m",
      "\u001b[0;31mKeyboardInterrupt\u001b[0m                         Traceback (most recent call last)",
      "Cell \u001b[0;32mIn[3], line 4\u001b[0m\n\u001b[1;32m      2\u001b[0m \u001b[38;5;28;01mfor\u001b[39;00m k \u001b[38;5;129;01min\u001b[39;00m \u001b[38;5;28mrange\u001b[39m(\u001b[38;5;28mlen\u001b[39m(news)):\n\u001b[1;32m      3\u001b[0m     article \u001b[38;5;241m=\u001b[39m naive_spyder(google_news,news,k)\n\u001b[0;32m----> 4\u001b[0m     article \u001b[38;5;241m=\u001b[39m \u001b[43mscrape_news_article\u001b[49m\u001b[43m(\u001b[49m\u001b[43marticle\u001b[49m\u001b[43m)\u001b[49m\n\u001b[1;32m      5\u001b[0m     \u001b[38;5;66;03m#articles.append(article)\u001b[39;00m\n",
      "File \u001b[0;32m~/sonder-art/magon/scrapper/selenium_spyder.py:180\u001b[0m, in \u001b[0;36mscrape_news_article\u001b[0;34m(article)\u001b[0m\n\u001b[1;32m    176\u001b[0m article[\u001b[38;5;124m'\u001b[39m\u001b[38;5;124mcontent\u001b[39m\u001b[38;5;124m'\u001b[39m] \u001b[38;5;241m=\u001b[39m \u001b[38;5;28;01mNone\u001b[39;00m\n\u001b[1;32m    178\u001b[0m \u001b[38;5;28;01mif\u001b[39;00m page_content \u001b[38;5;129;01mis\u001b[39;00m \u001b[38;5;129;01mnot\u001b[39;00m \u001b[38;5;28;01mNone\u001b[39;00m:\n\u001b[1;32m    179\u001b[0m     \u001b[38;5;66;03m# Try extracting content using the existing function first\u001b[39;00m\n\u001b[0;32m--> 180\u001b[0m     article_content \u001b[38;5;241m=\u001b[39m \u001b[43mextract_article_content_selenium\u001b[49m\u001b[43m(\u001b[49m\u001b[43murl\u001b[49m\u001b[43m)\u001b[49m\n\u001b[1;32m    181\u001b[0m     \u001b[38;5;66;03m# If the content is empty, try the new function for JavaScript-rendered content\u001b[39;00m\n\u001b[1;32m    182\u001b[0m     \u001b[38;5;28;01mif\u001b[39;00m \u001b[38;5;129;01mnot\u001b[39;00m article_content\u001b[38;5;241m.\u001b[39mstrip():\n",
      "File \u001b[0;32m~/sonder-art/magon/scrapper/selenium_spyder.py:68\u001b[0m, in \u001b[0;36mextract_article_content_selenium\u001b[0;34m(url, proxy)\u001b[0m\n\u001b[1;32m     64\u001b[0m     article_element \u001b[38;5;241m=\u001b[39m WebDriverWait(driver, \u001b[38;5;241m10\u001b[39m)\u001b[38;5;241m.\u001b[39muntil(\n\u001b[1;32m     65\u001b[0m         EC\u001b[38;5;241m.\u001b[39mpresence_of_element_located((By\u001b[38;5;241m.\u001b[39mCLASS_NAME, tag[\u001b[38;5;124m'\u001b[39m\u001b[38;5;124mclass\u001b[39m\u001b[38;5;124m'\u001b[39m]))\n\u001b[1;32m     66\u001b[0m     )\n\u001b[1;32m     67\u001b[0m \u001b[38;5;28;01melif\u001b[39;00m \u001b[38;5;124m'\u001b[39m\u001b[38;5;124mid\u001b[39m\u001b[38;5;124m'\u001b[39m \u001b[38;5;129;01min\u001b[39;00m tag:\n\u001b[0;32m---> 68\u001b[0m     article_element \u001b[38;5;241m=\u001b[39m \u001b[43mWebDriverWait\u001b[49m\u001b[43m(\u001b[49m\u001b[43mdriver\u001b[49m\u001b[43m,\u001b[49m\u001b[43m \u001b[49m\u001b[38;5;241;43m10\u001b[39;49m\u001b[43m)\u001b[49m\u001b[38;5;241;43m.\u001b[39;49m\u001b[43muntil\u001b[49m\u001b[43m(\u001b[49m\n\u001b[1;32m     69\u001b[0m \u001b[43m        \u001b[49m\u001b[43mEC\u001b[49m\u001b[38;5;241;43m.\u001b[39;49m\u001b[43mpresence_of_element_located\u001b[49m\u001b[43m(\u001b[49m\u001b[43m(\u001b[49m\u001b[43mBy\u001b[49m\u001b[38;5;241;43m.\u001b[39;49m\u001b[43mID\u001b[49m\u001b[43m,\u001b[49m\u001b[43m \u001b[49m\u001b[43mtag\u001b[49m\u001b[43m[\u001b[49m\u001b[38;5;124;43m'\u001b[39;49m\u001b[38;5;124;43mid\u001b[39;49m\u001b[38;5;124;43m'\u001b[39;49m\u001b[43m]\u001b[49m\u001b[43m)\u001b[49m\u001b[43m)\u001b[49m\n\u001b[1;32m     70\u001b[0m \u001b[43m    \u001b[49m\u001b[43m)\u001b[49m\n\u001b[1;32m     71\u001b[0m \u001b[38;5;28;01melif\u001b[39;00m \u001b[38;5;124m'\u001b[39m\u001b[38;5;124mitemprop\u001b[39m\u001b[38;5;124m'\u001b[39m \u001b[38;5;129;01min\u001b[39;00m tag:\n\u001b[1;32m     72\u001b[0m     article_element \u001b[38;5;241m=\u001b[39m WebDriverWait(driver, \u001b[38;5;241m10\u001b[39m)\u001b[38;5;241m.\u001b[39muntil(\n\u001b[1;32m     73\u001b[0m         EC\u001b[38;5;241m.\u001b[39mpresence_of_element_located((By\u001b[38;5;241m.\u001b[39mXPATH, \u001b[38;5;124mf\u001b[39m\u001b[38;5;124m\"\u001b[39m\u001b[38;5;124m//*[@itemprop=\u001b[39m\u001b[38;5;124m'\u001b[39m\u001b[38;5;132;01m{\u001b[39;00mtag[\u001b[38;5;124m'\u001b[39m\u001b[38;5;124mitemprop\u001b[39m\u001b[38;5;124m'\u001b[39m]\u001b[38;5;132;01m}\u001b[39;00m\u001b[38;5;124m'\u001b[39m\u001b[38;5;124m]\u001b[39m\u001b[38;5;124m\"\u001b[39m))\n\u001b[1;32m     74\u001b[0m     )\n",
      "File \u001b[0;32m~/sonder-art/magon/.venv/lib/python3.11/site-packages/selenium/webdriver/support/wait.py:102\u001b[0m, in \u001b[0;36mWebDriverWait.until\u001b[0;34m(self, method, message)\u001b[0m\n\u001b[1;32m    100\u001b[0m     screen \u001b[38;5;241m=\u001b[39m \u001b[38;5;28mgetattr\u001b[39m(exc, \u001b[38;5;124m\"\u001b[39m\u001b[38;5;124mscreen\u001b[39m\u001b[38;5;124m\"\u001b[39m, \u001b[38;5;28;01mNone\u001b[39;00m)\n\u001b[1;32m    101\u001b[0m     stacktrace \u001b[38;5;241m=\u001b[39m \u001b[38;5;28mgetattr\u001b[39m(exc, \u001b[38;5;124m\"\u001b[39m\u001b[38;5;124mstacktrace\u001b[39m\u001b[38;5;124m\"\u001b[39m, \u001b[38;5;28;01mNone\u001b[39;00m)\n\u001b[0;32m--> 102\u001b[0m time\u001b[38;5;241m.\u001b[39msleep(\u001b[38;5;28mself\u001b[39m\u001b[38;5;241m.\u001b[39m_poll)\n\u001b[1;32m    103\u001b[0m \u001b[38;5;28;01mif\u001b[39;00m time\u001b[38;5;241m.\u001b[39mmonotonic() \u001b[38;5;241m>\u001b[39m end_time:\n\u001b[1;32m    104\u001b[0m     \u001b[38;5;28;01mbreak\u001b[39;00m\n",
      "\u001b[0;31mKeyboardInterrupt\u001b[0m: "
     ]
    }
   ],
   "source": [
    "articles = []\n",
    "for k in range(len(news)):\n",
    "    article = naive_spyder(google_news,news,k)\n",
    "    article = scrape_news_article(article)\n",
    "    articles.append(article)\n"
   ]
  },
  {
   "cell_type": "code",
   "execution_count": null,
   "metadata": {},
   "outputs": [],
   "source": [
    "os.makedirs('demo_data/scrapper_demo', exist_ok=True)\n",
    "os.makedirs('demo_data/scrapper_demo/articles', exist_ok=True)\n",
    "\n",
    "articles = serialize_dict_non_recursive(articles)\n",
    "with open('demo_data/scrapper_demo/all.json', 'w') as json_file:\n",
    "    json.dump(articles, json_file)"
   ]
  },
  {
   "cell_type": "code",
   "execution_count": null,
   "metadata": {},
   "outputs": [],
   "source": [
    "for a in articles:\n",
    "    try:\n",
    "        title = a['title'].replace('/','')\n",
    "        text = a['content']\n",
    "        full_content = title + \"\\n\" + text\n",
    "        with open(os.path.join('demo_data/scrapper_demo/articles', f'{title}.txt'), 'w') as file:\n",
    "            file.write(full_content)\n",
    "    except:\n",
    "        pass\n",
    "        "
   ]
  }
 ],
 "metadata": {
  "kernelspec": {
   "display_name": ".venv",
   "language": "python",
   "name": "python3"
  },
  "language_info": {
   "codemirror_mode": {
    "name": "ipython",
    "version": 3
   },
   "file_extension": ".py",
   "mimetype": "text/x-python",
   "name": "python",
   "nbconvert_exporter": "python",
   "pygments_lexer": "ipython3",
   "version": "3.11.6"
  }
 },
 "nbformat": 4,
 "nbformat_minor": 2
}
